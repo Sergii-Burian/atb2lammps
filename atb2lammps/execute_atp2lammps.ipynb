{
 "cells": [
  {
   "cell_type": "code",
   "execution_count": 1,
   "metadata": {},
   "outputs": [
    {
     "name": "stdout",
     "output_type": "stream",
     "text": [
      "molecule: nitrogen \t formula: N2\n",
      "[0. 0.]\n",
      "True\n",
      "molecule: methane \t formula: CH4\n",
      "[ 0.13 -0.52  0.13  0.13  0.13]\n",
      "False\n",
      "molecule: carbondioxide \t formula: CO2\n",
      "[-0.376  0.752 -0.376]\n",
      "False\n",
      "molecule: decane \t formula: C10H22\n",
      "[ 0.06  -0.247  0.06   0.06   0.087 -0.002 -0.002 -0.113  0.022  0.022\n",
      "  0.119 -0.01  -0.01  -0.074  0.014  0.014 -0.074  0.014  0.014  0.119\n",
      " -0.01  -0.01  -0.113  0.022  0.022  0.087 -0.002 -0.002 -0.247  0.06\n",
      "  0.06   0.06 ]\n",
      "False\n",
      "molecule: luteolin \t formula: C15H10O6\n",
      "[ 0.48  -0.596  0.213  0.318 -0.585  0.461 -0.295  0.199 -0.084 -0.152\n",
      "  0.155 -0.266  0.177  0.506 -0.338  0.543 -0.651  0.237  0.593 -0.589\n",
      "  0.458 -0.593  0.237  0.501 -0.553  0.441 -0.538  0.824 -0.622 -0.706\n",
      "  0.225]\n",
      "False\n",
      "molecule: ethane \t formula: C2H6\n",
      "[ 0.017 -0.051  0.017  0.017 -0.051  0.017  0.017  0.017]\n",
      "False\n",
      "molecule: acetronitrice \t formula: C2H3N\n",
      "[-0.563  0.486 -0.493  0.19   0.19   0.19 ]\n",
      "False\n",
      "molecule: water \t formula: H2O\n",
      "[ 0.413 -0.826  0.413]\n",
      "False\n",
      "molecule: ethanol \t formula: C2H5OH\n",
      "[ 0.416 -0.682  0.372 -0.029 -0.029 -0.285  0.079  0.079  0.079]\n",
      "False\n",
      "molecule: toluene \t formula: C7H8\n",
      "[ 0.134 -0.184 -0.087  0.123 -0.271  0.147  0.296 -0.439  0.123  0.123\n",
      "  0.123 -0.271  0.147 -0.087  0.123]\n",
      "False\n",
      "molecule: propane \t formula: C3H8\n",
      "[ 0.068 -0.302  0.068  0.068  0.27  -0.037 -0.037 -0.302  0.068  0.068\n",
      "  0.068]\n",
      "False\n"
     ]
    }
   ],
   "source": [
    "import sys, os, git, subprocess\n",
    "from utilities import detect_lt_file, write_system_lt, delete_extra_files, \\\n",
    "    write_lammps_data, write_lammps_input\n",
    "# detect local path\n",
    "current_path = os.getcwd()\n",
    "git_repo = git.Repo(current_path, search_parent_directories=True)\n",
    "git_path = git_repo.git.rev_parse(\"--show-toplevel\")\n",
    "path_to_molecules = git_path + '/molecules'\n",
    "# detect molecules\n",
    "for filename in os.listdir(path_to_molecules):\n",
    "    molecule_folder = os.path.join(path_to_molecules, filename)\n",
    "    if os.path.isdir(molecule_folder):\n",
    "        molecule = molecule_folder[len(path_to_molecules)+1:]\n",
    "        molecule_name = molecule.split(\"_\")[0]\n",
    "        molecule_formula = molecule.split(\"_\")[1]\n",
    "        print(\"molecule:\", molecule_name, \"\\t\", \"formula:\", molecule_formula)\n",
    "\n",
    "        lt_file = detect_lt_file(molecule_folder)\n",
    "        # extract the system.lt file\n",
    "        write_system_lt(molecule_folder, lt_file)\n",
    "        # run moltemplate\n",
    "        run_moltemplate = subprocess.run([\"moltemplate.sh\", molecule_folder + \"/system.lt\"],\n",
    "                                         cwd=molecule_folder, stdout=open(os.devnull, 'wb'),\n",
    "                                         stderr=subprocess.DEVNULL) \n",
    "        no_charge = write_lammps_data(molecule_folder)\n",
    "        print(no_charge)\n",
    "        delete_extra_files(molecule_folder)\n",
    "        write_lammps_input(molecule_folder, no_charge)\n"
   ]
  }
 ],
 "metadata": {
  "kernelspec": {
   "display_name": "Python 3",
   "language": "python",
   "name": "python3"
  },
  "language_info": {
   "codemirror_mode": {
    "name": "ipython",
    "version": 3
   },
   "file_extension": ".py",
   "mimetype": "text/x-python",
   "name": "python",
   "nbconvert_exporter": "python",
   "pygments_lexer": "ipython3",
   "version": "3.11.4"
  }
 },
 "nbformat": 4,
 "nbformat_minor": 2
}
